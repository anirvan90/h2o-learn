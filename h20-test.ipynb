{
 "cells": [
  {
   "cell_type": "code",
   "execution_count": 2,
   "metadata": {},
   "outputs": [
    {
     "name": "stdout",
     "output_type": "stream",
     "text": [
      "Checking whether there is an H2O instance running at http://localhost:54321..... not found.\n",
      "Attempting to start a local H2O server...\n",
      "  Java Version: java version \"1.8.0_161\"; Java(TM) SE Runtime Environment (build 1.8.0_161-b12); Java HotSpot(TM) 64-Bit Server VM (build 25.161-b12, mixed mode)\n",
      "  Starting server from /Users/anirvan/anaconda3/lib/python3.6/site-packages/h2o/backend/bin/h2o.jar\n",
      "  Ice root: /var/folders/l7/n8pwny0j3mq6j8h_gxgzm4200000gn/T/tmpu9jfwrcr\n",
      "  JVM stdout: /var/folders/l7/n8pwny0j3mq6j8h_gxgzm4200000gn/T/tmpu9jfwrcr/h2o_anirvan_started_from_python.out\n",
      "  JVM stderr: /var/folders/l7/n8pwny0j3mq6j8h_gxgzm4200000gn/T/tmpu9jfwrcr/h2o_anirvan_started_from_python.err\n",
      "  Server is running at http://127.0.0.1:54321\n",
      "Connecting to H2O server at http://127.0.0.1:54321... successful.\n"
     ]
    },
    {
     "data": {
      "text/html": [
       "<div style=\"overflow:auto\"><table style=\"width:50%\"><tr><td>H2O cluster uptime:</td>\n",
       "<td>07 secs</td></tr>\n",
       "<tr><td>H2O cluster version:</td>\n",
       "<td>3.16.0.4</td></tr>\n",
       "<tr><td>H2O cluster version age:</td>\n",
       "<td>20 days </td></tr>\n",
       "<tr><td>H2O cluster name:</td>\n",
       "<td>H2O_from_python_anirvan_8w88ke</td></tr>\n",
       "<tr><td>H2O cluster total nodes:</td>\n",
       "<td>1</td></tr>\n",
       "<tr><td>H2O cluster free memory:</td>\n",
       "<td>7.111 Gb</td></tr>\n",
       "<tr><td>H2O cluster total cores:</td>\n",
       "<td>0</td></tr>\n",
       "<tr><td>H2O cluster allowed cores:</td>\n",
       "<td>0</td></tr>\n",
       "<tr><td>H2O cluster status:</td>\n",
       "<td>accepting new members, healthy</td></tr>\n",
       "<tr><td>H2O connection url:</td>\n",
       "<td>http://127.0.0.1:54321</td></tr>\n",
       "<tr><td>H2O connection proxy:</td>\n",
       "<td>None</td></tr>\n",
       "<tr><td>H2O internal security:</td>\n",
       "<td>False</td></tr>\n",
       "<tr><td>H2O API Extensions:</td>\n",
       "<td>XGBoost, Algos, AutoML, Core V3, Core V4</td></tr>\n",
       "<tr><td>Python version:</td>\n",
       "<td>3.6.3 final</td></tr></table></div>"
      ],
      "text/plain": [
       "--------------------------  ----------------------------------------\n",
       "H2O cluster uptime:         07 secs\n",
       "H2O cluster version:        3.16.0.4\n",
       "H2O cluster version age:    20 days\n",
       "H2O cluster name:           H2O_from_python_anirvan_8w88ke\n",
       "H2O cluster total nodes:    1\n",
       "H2O cluster free memory:    7.111 Gb\n",
       "H2O cluster total cores:    0\n",
       "H2O cluster allowed cores:  0\n",
       "H2O cluster status:         accepting new members, healthy\n",
       "H2O connection url:         http://127.0.0.1:54321\n",
       "H2O connection proxy:\n",
       "H2O internal security:      False\n",
       "H2O API Extensions:         XGBoost, Algos, AutoML, Core V3, Core V4\n",
       "Python version:             3.6.3 final\n",
       "--------------------------  ----------------------------------------"
      ]
     },
     "metadata": {},
     "output_type": "display_data"
    }
   ],
   "source": [
    "## Import H2O Package and Initialize\n",
    "import h2o\n",
    "\n",
    "## nthreads = number of cores to use -1 = all\n",
    "## max_mem_size = RAM to allocate to this process\n",
    "h2o.init(nthreads = -1, max_mem_size=8)"
   ]
  },
  {
   "cell_type": "code",
   "execution_count": 5,
   "metadata": {},
   "outputs": [
    {
     "name": "stdout",
     "output_type": "stream",
     "text": [
      "Parse progress: |█████████████████████████████████████████████████████████| 100%\n"
     ]
    }
   ],
   "source": [
    "## Import Data\n",
    "loan_csv = \"loan.csv\"\n",
    "data = h2o.import_file(loan_csv)"
   ]
  },
  {
   "cell_type": "code",
   "execution_count": 7,
   "metadata": {},
   "outputs": [
    {
     "data": {
      "text/plain": [
       "(163987, 15)"
      ]
     },
     "execution_count": 7,
     "metadata": {},
     "output_type": "execute_result"
    }
   ],
   "source": [
    "## Check Data Shape\n",
    "## This should output a tuple (rows, columns)\n",
    "data.shape"
   ]
  },
  {
   "cell_type": "markdown",
   "metadata": {},
   "source": [
    "### Encode A Response Variable\n",
    "Since this is a binary classification problem, the reposne must be coded as a factor\n"
   ]
  },
  {
   "cell_type": "code",
   "execution_count": 9,
   "metadata": {},
   "outputs": [
    {
     "data": {
      "text/plain": [
       "[['0', '1']]"
      ]
     },
     "execution_count": 9,
     "metadata": {},
     "output_type": "execute_result"
    }
   ],
   "source": [
    "data['bad_loan'] = data['bad_loan'].asfactor()\n",
    "data['bad_loan'].levels()"
   ]
  },
  {
   "cell_type": "markdown",
   "metadata": {},
   "source": [
    "### Partition Data into Training, Validation and Test Sets\n",
    "\n",
    "70% - Train\n",
    "15% - Valid\n",
    "15% - Test"
   ]
  },
  {
   "cell_type": "code",
   "execution_count": 15,
   "metadata": {},
   "outputs": [
    {
     "name": "stdout",
     "output_type": "stream",
     "text": [
      "Train: (114908, 15)\n",
      "Valid: (24498, 15)\n",
      "Test: (24581, 15)\n"
     ]
    }
   ],
   "source": [
    "splits = data.split_frame(ratios = [0.7,0.15], seed=1)\n",
    "\n",
    "train = splits[0]\n",
    "valid = splits[1]\n",
    "test = splits[2]\n",
    "\n",
    "print(\"Train: \"+ str(train.shape))\n",
    "print(\"Valid: \"+ str(valid.shape))\n",
    "print(\"Test: \"+str(test.shape))"
   ]
  },
  {
   "cell_type": "markdown",
   "metadata": {},
   "source": [
    "### H2O Uses 'y' to designate the response variable\n",
    "### and 'x' to designate the list of predictor columns"
   ]
  },
  {
   "cell_type": "code",
   "execution_count": 16,
   "metadata": {
    "collapsed": true
   },
   "outputs": [],
   "source": [
    "y = 'bad_loan'\n",
    "x = list(data.columns)"
   ]
  },
  {
   "cell_type": "code",
   "execution_count": 17,
   "metadata": {
    "collapsed": true
   },
   "outputs": [],
   "source": [
    "x.remove(y) ##remove the response\n",
    "x.remove('int_rate') ## remove the interest rate because it is connected to the response"
   ]
  },
  {
   "cell_type": "code",
   "execution_count": 19,
   "metadata": {},
   "outputs": [
    {
     "data": {
      "text/plain": [
       "['loan_amnt',\n",
       " 'term',\n",
       " 'emp_length',\n",
       " 'home_ownership',\n",
       " 'annual_inc',\n",
       " 'purpose',\n",
       " 'addr_state',\n",
       " 'dti',\n",
       " 'delinq_2yrs',\n",
       " 'revol_util',\n",
       " 'total_acc',\n",
       " 'longest_credit_length',\n",
       " 'verification_status']"
      ]
     },
     "execution_count": 19,
     "metadata": {},
     "output_type": "execute_result"
    }
   ],
   "source": [
    "x ## List of predictor columns or parameters/inputs"
   ]
  },
  {
   "cell_type": "markdown",
   "metadata": {},
   "source": [
    "## Build the DL Model"
   ]
  },
  {
   "cell_type": "code",
   "execution_count": 23,
   "metadata": {
    "collapsed": true
   },
   "outputs": [],
   "source": [
    "from h2o.estimators.deeplearning import H2ODeepLearningEstimator as h2odl"
   ]
  },
  {
   "cell_type": "markdown",
   "metadata": {},
   "source": [
    "#### Train a default model"
   ]
  },
  {
   "cell_type": "code",
   "execution_count": 24,
   "metadata": {},
   "outputs": [
    {
     "name": "stdout",
     "output_type": "stream",
     "text": [
      "deeplearning Model Build progress: |██████████████████████████████████████| 100%\n"
     ]
    }
   ],
   "source": [
    "dl_fit1 = h2odl(model_id='dl_fit1', seed=1)\n",
    "dl_fit1.train(x=x, y=y,training_frame=train)"
   ]
  },
  {
   "cell_type": "markdown",
   "metadata": {},
   "source": [
    "#### Train a model with more epochs and hidden layers and turn off stopping rounds which prevent overfitting"
   ]
  },
  {
   "cell_type": "code",
   "execution_count": 25,
   "metadata": {},
   "outputs": [
    {
     "name": "stdout",
     "output_type": "stream",
     "text": [
      "deeplearning Model Build progress: |██████████████████████████████████████| 100%\n"
     ]
    }
   ],
   "source": [
    "dl_fit2 = h2odl(model_id='dl_fit2', epochs=20, hidden=[10,10],stopping_rounds=0, seed=1)\n",
    "dl_fit2.train(x=x, y=y, training_frame=train)"
   ]
  },
  {
   "cell_type": "markdown",
   "metadata": {},
   "source": [
    "#### Train a third model with stopping rounds"
   ]
  },
  {
   "cell_type": "code",
   "execution_count": 26,
   "metadata": {},
   "outputs": [
    {
     "name": "stdout",
     "output_type": "stream",
     "text": [
      "deeplearning Model Build progress: |██████████████████████████████████████| 100%\n"
     ]
    }
   ],
   "source": [
    "dl_fit3 = h2odl(model_id='dl_fit3',\n",
    "                epochs=20, hidden=[10,10],\n",
    "                score_interval=1,\n",
    "                stopping_rounds=3,\n",
    "                stopping_metric='AUC',\n",
    "                stopping_tolerance=0.0005,\n",
    "                seed=1)\n",
    "dl_fit3.train(x=x, y=y, training_frame=train, validation_frame=valid)"
   ]
  },
  {
   "cell_type": "markdown",
   "metadata": {},
   "source": [
    "### Compare Model Performance"
   ]
  },
  {
   "cell_type": "code",
   "execution_count": 28,
   "metadata": {},
   "outputs": [
    {
     "name": "stdout",
     "output_type": "stream",
     "text": [
      "0.6761369141167992\n",
      "0.6781741816497162\n",
      "0.6784819944574187\n"
     ]
    }
   ],
   "source": [
    "dl_perf1 = dl_fit1.model_performance(test)\n",
    "dl_perf2 = dl_fit2.model_performance(test)\n",
    "dl_perf3 = dl_fit3.model_performance(test)\n",
    "\n",
    "print(dl_perf1.auc())\n",
    "print(dl_perf2.auc())\n",
    "print(dl_perf3.auc())"
   ]
  },
  {
   "cell_type": "code",
   "execution_count": 29,
   "metadata": {},
   "outputs": [
    {
     "data": {
      "text/html": [
       "<div>\n",
       "<style>\n",
       "    .dataframe thead tr:only-child th {\n",
       "        text-align: right;\n",
       "    }\n",
       "\n",
       "    .dataframe thead th {\n",
       "        text-align: left;\n",
       "    }\n",
       "\n",
       "    .dataframe tbody tr th {\n",
       "        vertical-align: top;\n",
       "    }\n",
       "</style>\n",
       "<table border=\"1\" class=\"dataframe\">\n",
       "  <thead>\n",
       "    <tr style=\"text-align: right;\">\n",
       "      <th></th>\n",
       "      <th></th>\n",
       "      <th>timestamp</th>\n",
       "      <th>duration</th>\n",
       "      <th>training_speed</th>\n",
       "      <th>epochs</th>\n",
       "      <th>iterations</th>\n",
       "      <th>samples</th>\n",
       "      <th>training_rmse</th>\n",
       "      <th>training_logloss</th>\n",
       "      <th>training_auc</th>\n",
       "      <th>training_lift</th>\n",
       "      <th>training_classification_error</th>\n",
       "      <th>validation_rmse</th>\n",
       "      <th>validation_logloss</th>\n",
       "      <th>validation_auc</th>\n",
       "      <th>validation_lift</th>\n",
       "      <th>validation_classification_error</th>\n",
       "    </tr>\n",
       "  </thead>\n",
       "  <tbody>\n",
       "    <tr>\n",
       "      <th>0</th>\n",
       "      <td></td>\n",
       "      <td>2018-02-05 11:53:46</td>\n",
       "      <td>0.000 sec</td>\n",
       "      <td>None</td>\n",
       "      <td>0.000000</td>\n",
       "      <td>0</td>\n",
       "      <td>0.0</td>\n",
       "      <td>NaN</td>\n",
       "      <td>NaN</td>\n",
       "      <td>NaN</td>\n",
       "      <td>NaN</td>\n",
       "      <td>NaN</td>\n",
       "      <td>NaN</td>\n",
       "      <td>NaN</td>\n",
       "      <td>NaN</td>\n",
       "      <td>NaN</td>\n",
       "      <td>NaN</td>\n",
       "    </tr>\n",
       "    <tr>\n",
       "      <th>1</th>\n",
       "      <td></td>\n",
       "      <td>2018-02-05 11:53:46</td>\n",
       "      <td>0.372 sec</td>\n",
       "      <td>404825 obs/sec</td>\n",
       "      <td>0.870192</td>\n",
       "      <td>1</td>\n",
       "      <td>99992.0</td>\n",
       "      <td>0.384857</td>\n",
       "      <td>0.476337</td>\n",
       "      <td>0.661659</td>\n",
       "      <td>2.830353</td>\n",
       "      <td>0.333030</td>\n",
       "      <td>0.384176</td>\n",
       "      <td>0.474208</td>\n",
       "      <td>0.667317</td>\n",
       "      <td>2.751867</td>\n",
       "      <td>0.356560</td>\n",
       "    </tr>\n",
       "    <tr>\n",
       "      <th>2</th>\n",
       "      <td></td>\n",
       "      <td>2018-02-05 11:53:47</td>\n",
       "      <td>1.396 sec</td>\n",
       "      <td>510255 obs/sec</td>\n",
       "      <td>5.222091</td>\n",
       "      <td>6</td>\n",
       "      <td>600060.0</td>\n",
       "      <td>0.378269</td>\n",
       "      <td>0.456025</td>\n",
       "      <td>0.671440</td>\n",
       "      <td>2.830353</td>\n",
       "      <td>0.399879</td>\n",
       "      <td>0.377752</td>\n",
       "      <td>0.454926</td>\n",
       "      <td>0.675431</td>\n",
       "      <td>2.531718</td>\n",
       "      <td>0.357784</td>\n",
       "    </tr>\n",
       "    <tr>\n",
       "      <th>3</th>\n",
       "      <td></td>\n",
       "      <td>2018-02-05 11:53:48</td>\n",
       "      <td>2.465 sec</td>\n",
       "      <td>554493 obs/sec</td>\n",
       "      <td>10.442476</td>\n",
       "      <td>12</td>\n",
       "      <td>1199924.0</td>\n",
       "      <td>0.377579</td>\n",
       "      <td>0.451896</td>\n",
       "      <td>0.674596</td>\n",
       "      <td>3.156932</td>\n",
       "      <td>0.341930</td>\n",
       "      <td>0.377874</td>\n",
       "      <td>0.452428</td>\n",
       "      <td>0.675282</td>\n",
       "      <td>2.443658</td>\n",
       "      <td>0.356274</td>\n",
       "    </tr>\n",
       "    <tr>\n",
       "      <th>4</th>\n",
       "      <td></td>\n",
       "      <td>2018-02-05 11:53:49</td>\n",
       "      <td>3.470 sec</td>\n",
       "      <td>583737 obs/sec</td>\n",
       "      <td>15.666838</td>\n",
       "      <td>18</td>\n",
       "      <td>1800245.0</td>\n",
       "      <td>0.376189</td>\n",
       "      <td>0.449578</td>\n",
       "      <td>0.680251</td>\n",
       "      <td>2.775923</td>\n",
       "      <td>0.394519</td>\n",
       "      <td>0.376923</td>\n",
       "      <td>0.451155</td>\n",
       "      <td>0.676401</td>\n",
       "      <td>2.619777</td>\n",
       "      <td>0.348314</td>\n",
       "    </tr>\n",
       "    <tr>\n",
       "      <th>5</th>\n",
       "      <td></td>\n",
       "      <td>2018-02-05 11:53:50</td>\n",
       "      <td>4.277 sec</td>\n",
       "      <td>603119 obs/sec</td>\n",
       "      <td>20.018589</td>\n",
       "      <td>23</td>\n",
       "      <td>2300296.0</td>\n",
       "      <td>0.375991</td>\n",
       "      <td>0.448671</td>\n",
       "      <td>0.680739</td>\n",
       "      <td>3.211362</td>\n",
       "      <td>0.354571</td>\n",
       "      <td>0.376429</td>\n",
       "      <td>0.449485</td>\n",
       "      <td>0.679535</td>\n",
       "      <td>2.553733</td>\n",
       "      <td>0.338517</td>\n",
       "    </tr>\n",
       "  </tbody>\n",
       "</table>\n",
       "</div>"
      ],
      "text/plain": [
       "               timestamp    duration  training_speed     epochs  iterations  \\\n",
       "0    2018-02-05 11:53:46   0.000 sec            None   0.000000           0   \n",
       "1    2018-02-05 11:53:46   0.372 sec  404825 obs/sec   0.870192           1   \n",
       "2    2018-02-05 11:53:47   1.396 sec  510255 obs/sec   5.222091           6   \n",
       "3    2018-02-05 11:53:48   2.465 sec  554493 obs/sec  10.442476          12   \n",
       "4    2018-02-05 11:53:49   3.470 sec  583737 obs/sec  15.666838          18   \n",
       "5    2018-02-05 11:53:50   4.277 sec  603119 obs/sec  20.018589          23   \n",
       "\n",
       "     samples  training_rmse  training_logloss  training_auc  training_lift  \\\n",
       "0        0.0            NaN               NaN           NaN            NaN   \n",
       "1    99992.0       0.384857          0.476337      0.661659       2.830353   \n",
       "2   600060.0       0.378269          0.456025      0.671440       2.830353   \n",
       "3  1199924.0       0.377579          0.451896      0.674596       3.156932   \n",
       "4  1800245.0       0.376189          0.449578      0.680251       2.775923   \n",
       "5  2300296.0       0.375991          0.448671      0.680739       3.211362   \n",
       "\n",
       "   training_classification_error  validation_rmse  validation_logloss  \\\n",
       "0                            NaN              NaN                 NaN   \n",
       "1                       0.333030         0.384176            0.474208   \n",
       "2                       0.399879         0.377752            0.454926   \n",
       "3                       0.341930         0.377874            0.452428   \n",
       "4                       0.394519         0.376923            0.451155   \n",
       "5                       0.354571         0.376429            0.449485   \n",
       "\n",
       "   validation_auc  validation_lift  validation_classification_error  \n",
       "0             NaN              NaN                              NaN  \n",
       "1        0.667317         2.751867                         0.356560  \n",
       "2        0.675431         2.531718                         0.357784  \n",
       "3        0.675282         2.443658                         0.356274  \n",
       "4        0.676401         2.619777                         0.348314  \n",
       "5        0.679535         2.553733                         0.338517  "
      ]
     },
     "execution_count": 29,
     "metadata": {},
     "output_type": "execute_result"
    }
   ],
   "source": [
    "dl_fit3.scoring_history()"
   ]
  },
  {
   "cell_type": "code",
   "execution_count": null,
   "metadata": {
    "collapsed": true
   },
   "outputs": [],
   "source": []
  }
 ],
 "metadata": {
  "kernelspec": {
   "display_name": "Python 3",
   "language": "python",
   "name": "python3"
  },
  "language_info": {
   "codemirror_mode": {
    "name": "ipython",
    "version": 3
   },
   "file_extension": ".py",
   "mimetype": "text/x-python",
   "name": "python",
   "nbconvert_exporter": "python",
   "pygments_lexer": "ipython3",
   "version": "3.6.3"
  }
 },
 "nbformat": 4,
 "nbformat_minor": 2
}
